{
 "cells": [
  {
   "cell_type": "code",
   "execution_count": 71,
   "id": "initial_id",
   "metadata": {
    "collapsed": true
   },
   "outputs": [],
   "source": [
    "import pandas as pd\n",
    "import numpy as np\n",
    "from pathlib import Path"
   ]
  },
  {
   "cell_type": "markdown",
   "id": "9d118a65",
   "metadata": {},
   "source": [
    "import relevant libriries for data handling and processing "
   ]
  },
  {
   "cell_type": "code",
   "execution_count": 138,
   "id": "f1b636ec",
   "metadata": {},
   "outputs": [
    {
     "name": "stdout",
     "output_type": "stream",
     "text": [
      "                 0           1                      2                      3   \\\n",
      "0           Disease   Symptom_1              Symptom_2              Symptom_3   \n",
      "1  Fungal infection     itching              skin_rash   nodal_skin_eruptions   \n",
      "2  Fungal infection   skin_rash   nodal_skin_eruptions    dischromic _patches   \n",
      "\n",
      "                     4          5          6          7          8   \\\n",
      "0             Symptom_4  Symptom_5  Symptom_6  Symptom_7  Symptom_8   \n",
      "1   dischromic _patches        NaN        NaN        NaN        NaN   \n",
      "2                   NaN        NaN        NaN        NaN        NaN   \n",
      "\n",
      "          9           10          11          12          13          14  \\\n",
      "0  Symptom_9  Symptom_10  Symptom_11  Symptom_12  Symptom_13  Symptom_14   \n",
      "1        NaN         NaN         NaN         NaN         NaN         NaN   \n",
      "2        NaN         NaN         NaN         NaN         NaN         NaN   \n",
      "\n",
      "           15          16          17  \n",
      "0  Symptom_15  Symptom_16  Symptom_17  \n",
      "1         NaN         NaN         NaN  \n",
      "2         NaN         NaN         NaN  \n",
      "data shape: (4921, 18)\n"
     ]
    }
   ],
   "source": [
    "RawSymptomsFrame = pd.read_csv('/Users/jroyarekhua/SymptomCheckerHackthon/ml_operations/data/raw/dataset.csv',\n",
    "                               header=None,\n",
    "                               on_bad_lines='skip',\n",
    "                               skip_blank_lines=True)\n",
    "print(RawSymptomsFrame.head(n=3))\n",
    "print(f'data shape: {RawSymptomsFrame.shape}')\n",
    "RawSymptomsFrame.columns = ['Disease'] + [f'Symptom_{i}' for i in range(1, 18)]\n",
    "RawSymptomsFrame = RawSymptomsFrame.drop(index=0).reset_index(drop=True)\n"
   ]
  },
  {
   "cell_type": "code",
   "execution_count": 139,
   "id": "03f091a8",
   "metadata": {},
   "outputs": [
    {
     "name": "stdout",
     "output_type": "stream",
     "text": [
      "<class 'pandas.core.frame.DataFrame'>\n",
      "RangeIndex: 4920 entries, 0 to 4919\n",
      "Data columns (total 18 columns):\n",
      " #   Column      Non-Null Count  Dtype \n",
      "---  ------      --------------  ----- \n",
      " 0   Disease     4920 non-null   object\n",
      " 1   Symptom_1   4920 non-null   object\n",
      " 2   Symptom_2   4920 non-null   object\n",
      " 3   Symptom_3   4920 non-null   object\n",
      " 4   Symptom_4   4572 non-null   object\n",
      " 5   Symptom_5   3714 non-null   object\n",
      " 6   Symptom_6   2934 non-null   object\n",
      " 7   Symptom_7   2268 non-null   object\n",
      " 8   Symptom_8   1944 non-null   object\n",
      " 9   Symptom_9   1692 non-null   object\n",
      " 10  Symptom_10  1512 non-null   object\n",
      " 11  Symptom_11  1194 non-null   object\n",
      " 12  Symptom_12  744 non-null    object\n",
      " 13  Symptom_13  504 non-null    object\n",
      " 14  Symptom_14  306 non-null    object\n",
      " 15  Symptom_15  240 non-null    object\n",
      " 16  Symptom_16  192 non-null    object\n",
      " 17  Symptom_17  72 non-null     object\n",
      "dtypes: object(18)\n",
      "memory usage: 692.0+ KB\n",
      "None\n",
      "                 Disease  Symptom_1  Symptom_2 Symptom_3    Symptom_4  \\\n",
      "count               4920       4920       4920      4920         4572   \n",
      "unique                41         34         48        54           50   \n",
      "top     Fungal infection   vomiting   vomiting   fatigue   high_fever   \n",
      "freq                 120        822        870       726          378   \n",
      "\n",
      "        Symptom_5 Symptom_6        Symptom_7        Symptom_8  \\\n",
      "count        3714      2934             2268             1944   \n",
      "unique         38        32               26               21   \n",
      "top      headache    nausea   abdominal_pain   abdominal_pain   \n",
      "freq          348       390              264              276   \n",
      "\n",
      "                 Symptom_9          Symptom_10     Symptom_11 Symptom_12  \\\n",
      "count                 1692                1512           1194        744   \n",
      "unique                  22                  21             18         11   \n",
      "top      yellowing_of_eyes   yellowing_of_eyes   irritability    malaise   \n",
      "freq                   228                 198            120        126   \n",
      "\n",
      "          Symptom_13   Symptom_14   Symptom_15        Symptom_16    Symptom_17  \n",
      "count            504          306          240               192            72  \n",
      "unique             8            4            3                 3             1  \n",
      "top      muscle_pain   chest_pain   chest_pain   blood_in_sputum   muscle_pain  \n",
      "freq              72           96          144                72            72  \n"
     ]
    }
   ],
   "source": [
    "print(RawSymptomsFrame.info())\n",
    "print(RawSymptomsFrame.describe())"
   ]
  },
  {
   "cell_type": "code",
   "execution_count": 143,
   "id": "9a436c21",
   "metadata": {},
   "outputs": [
    {
     "name": "stdout",
     "output_type": "stream",
     "text": [
      "            Disease  Symptom_1             Symptom_2             Symptom_3  \\\n",
      "0  fungal infection    itching             skin_rash  nodal_skin_eruptions   \n",
      "1  fungal infection  skin_rash  nodal_skin_eruptions    dischromic_patches   \n",
      "2  fungal infection    itching  nodal_skin_eruptions    dischromic_patches   \n",
      "3  fungal infection    itching             skin_rash    dischromic_patches   \n",
      "4  fungal infection    itching             skin_rash  nodal_skin_eruptions   \n",
      "\n",
      "            Symptom_4 Symptom_5 Symptom_6 Symptom_7 Symptom_8 Symptom_9  \\\n",
      "0  dischromic_patches       NaN       NaN       NaN       NaN       NaN   \n",
      "1                 NaN       NaN       NaN       NaN       NaN       NaN   \n",
      "2                 NaN       NaN       NaN       NaN       NaN       NaN   \n",
      "3                 NaN       NaN       NaN       NaN       NaN       NaN   \n",
      "4                 NaN       NaN       NaN       NaN       NaN       NaN   \n",
      "\n",
      "  Symptom_10 Symptom_11 Symptom_12 Symptom_13 Symptom_14 Symptom_15  \\\n",
      "0        NaN        NaN        NaN        NaN        NaN        NaN   \n",
      "1        NaN        NaN        NaN        NaN        NaN        NaN   \n",
      "2        NaN        NaN        NaN        NaN        NaN        NaN   \n",
      "3        NaN        NaN        NaN        NaN        NaN        NaN   \n",
      "4        NaN        NaN        NaN        NaN        NaN        NaN   \n",
      "\n",
      "  Symptom_16 Symptom_17  \n",
      "0        NaN        NaN  \n",
      "1        NaN        NaN  \n",
      "2        NaN        NaN  \n",
      "3        NaN        NaN  \n",
      "4        NaN        NaN  \n"
     ]
    }
   ],
   "source": [
    "cleaned_symptoms = RawSymptomsFrame.copy()\n",
    "\n",
    "for col in cleaned_symptoms.select_dtypes(include='object').columns:\n",
    "    cleaned_symptoms[col] = (cleaned_symptoms[col]\n",
    "                             .str.strip()\n",
    "                             .str.lower()\n",
    "                             .str.replace('_ ','_')\n",
    "                             .str.replace(' _', '_')) \n",
    "print(cleaned_symptoms.head())\n"
   ]
  },
  {
   "cell_type": "markdown",
   "id": "997708d6",
   "metadata": {},
   "source": [
    "strip whitespace and conventionally make everything lowercase "
   ]
  },
  {
   "cell_type": "code",
   "execution_count": 144,
   "id": "9d31ce36",
   "metadata": {},
   "outputs": [
    {
     "name": "stdout",
     "output_type": "stream",
     "text": [
      "Symptoms              \n",
      "fatigue                   1932\n",
      "vomiting                  1914\n",
      "high_fever                1362\n",
      "loss_of_appetite          1152\n",
      "nausea                    1146\n",
      "                          ... \n",
      "extra_marital_contacts     108\n",
      "dischromic_patches         108\n",
      "dehydration                108\n",
      "muscle_wasting             108\n",
      "foul_smell_of urine        102\n",
      "Name: count, Length: 131, dtype: int64\n"
     ]
    }
   ],
   "source": [
    "symptom_cols = cleaned_symptoms.drop(columns=['Disease']) # get only the symptom columns \n",
    "symptom_cols_long = symptom_cols.melt(var_name='Symptom', value_name='Symptoms')\n",
    "symptom_cols_long.dropna(subset=['Symptom'],inplace=True)\n",
    "symptom_cols_long['Symptoms'] = symptom_cols_long['Symptoms'].str.strip() # strip all whitespace from values\n",
    "symptom_cols_long.drop(columns=['Symptom'],inplace=True)\n",
    "print(symptom_cols_long.value_counts())"
   ]
  },
  {
   "cell_type": "markdown",
   "id": "b3066aaa",
   "metadata": {},
   "source": [
    "looking at value counts of all unique symptoms. and sorting them by frequency"
   ]
  },
  {
   "cell_type": "code",
   "execution_count": 163,
   "id": "1d23bef7",
   "metadata": {},
   "outputs": [
    {
     "name": "stdout",
     "output_type": "stream",
     "text": [
      "Disease\n",
      "Fungal infection                           120\n",
      "Hepatitis C                                120\n",
      "Hepatitis E                                120\n",
      "Alcoholic hepatitis                        120\n",
      "Tuberculosis                               120\n",
      "Common Cold                                120\n",
      "Pneumonia                                  120\n",
      "Dimorphic hemmorhoids(piles)               120\n",
      "Heart attack                               120\n",
      "Varicose veins                             120\n",
      "Hypothyroidism                             120\n",
      "Hyperthyroidism                            120\n",
      "Hypoglycemia                               120\n",
      "Osteoarthristis                            120\n",
      "Arthritis                                  120\n",
      "(vertigo) Paroymsal  Positional Vertigo    120\n",
      "Acne                                       120\n",
      "Urinary tract infection                    120\n",
      "Psoriasis                                  120\n",
      "Hepatitis D                                120\n",
      "Hepatitis B                                120\n",
      "Allergy                                    120\n",
      "hepatitis A                                120\n",
      "GERD                                       120\n",
      "Chronic cholestasis                        120\n",
      "Drug Reaction                              120\n",
      "Peptic ulcer diseae                        120\n",
      "AIDS                                       120\n",
      "Diabetes                                   120\n",
      "Gastroenteritis                            120\n",
      "Bronchial Asthma                           120\n",
      "Hypertension                               120\n",
      "Migraine                                   120\n",
      "Cervical spondylosis                       120\n",
      "Paralysis (brain hemorrhage)               120\n",
      "Jaundice                                   120\n",
      "Malaria                                    120\n",
      "Chicken pox                                120\n",
      "Dengue                                     120\n",
      "Typhoid                                    120\n",
      "Impetigo                                   120\n",
      "Name: count, dtype: int64\n"
     ]
    }
   ],
   "source": [
    "diseases = RawSymptomsFrame['Disease']\n",
    "diseases.dropna(inplace=True)\n",
    "print(diseases.value_counts())\n"
   ]
  },
  {
   "cell_type": "markdown",
   "id": "9a28413a",
   "metadata": {},
   "source": [
    "counting all unique diseases, sorting them by frequency "
   ]
  },
  {
   "cell_type": "code",
   "execution_count": 182,
   "id": "cf86ca3c",
   "metadata": {},
   "outputs": [
    {
     "name": "stdout",
     "output_type": "stream",
     "text": [
      "Disease    (vertigo) paroymsal  positional vertigo      acne      aids  \\\n",
      "Count                                         2040      2040      2040   \n",
      "Proportion                                 0.02439   0.02439   0.02439   \n",
      "Percentage                                2.439024  2.439024  2.439024   \n",
      "\n",
      "Disease    alcoholic hepatitis   allergy arthritis bronchial asthma  \\\n",
      "Count                     2040      2040      2040             2040   \n",
      "Proportion             0.02439   0.02439   0.02439          0.02439   \n",
      "Percentage            2.439024  2.439024  2.439024         2.439024   \n",
      "\n",
      "Disease    cervical spondylosis chicken pox chronic cholestasis  ...  \\\n",
      "Count                      2040        2040                2040  ...   \n",
      "Proportion              0.02439     0.02439             0.02439  ...   \n",
      "Percentage             2.439024    2.439024            2.439024  ...   \n",
      "\n",
      "Disease    osteoarthristis paralysis (brain hemorrhage) peptic ulcer diseae  \\\n",
      "Count                 2040                         2040                2040   \n",
      "Proportion         0.02439                      0.02439             0.02439   \n",
      "Percentage        2.439024                     2.439024            2.439024   \n",
      "\n",
      "Disease    pneumonia psoriasis tuberculosis   typhoid urinary tract infection  \\\n",
      "Count           2040      2040         2040      2040                    2040   \n",
      "Proportion   0.02439   0.02439      0.02439   0.02439                 0.02439   \n",
      "Percentage  2.439024  2.439024     2.439024  2.439024                2.439024   \n",
      "\n",
      "Disease    varicose veins    Total  \n",
      "Count                2040  83640.0  \n",
      "Proportion        0.02439      1.0  \n",
      "Percentage       2.439024    100.0  \n",
      "\n",
      "[3 rows x 42 columns]\n",
      "Count         83640.0\n",
      "Proportion        1.0\n",
      "Percentage      100.0\n",
      "Name: Total, dtype: float64\n"
     ]
    }
   ],
   "source": [
    "disease_count = cleaned_symptoms[['Disease']].copy()\n",
    "disease_count = (disease_count\n",
    "                 .value_counts()\n",
    "                 .sort_index()\n",
    "                 .reset_index())\n",
    "disease_count.columns = ['Disease', 'Count']\n",
    "\n",
    "disease_count['Proportion'] = disease_count['Count'] / disease_count['Count'].sum()\n",
    "disease_count['Percentage'] = disease_count['Proportion'] * 100\n",
    "\n",
    "\n",
    "tabulation = disease_count.T\n",
    "tabulation.columns = tabulation.iloc[0,:]\n",
    "tabulation.drop(tabulation.index[0],inplace=True)\n",
    "\n",
    "tabulation['Total'] = [\n",
    "    tabulation.loc['Count'].sum(),\n",
    "    tabulation.loc['Proportion'].sum(),   \n",
    "    tabulation.loc['Percentage'].sum()\n",
    "]\n",
    "\n",
    "print(tabulation)\n",
    "print(tabulation['Total'])\n"
   ]
  },
  {
   "cell_type": "markdown",
   "id": "19c96a28",
   "metadata": {},
   "source": [
    "create a frequency table for diseases "
   ]
  },
  {
   "cell_type": "code",
   "execution_count": 274,
   "id": "d67be033",
   "metadata": {},
   "outputs": [
    {
     "name": "stdout",
     "output_type": "stream",
     "text": [
      "Symptoms     fatigue  vomiting high_fever loss_of_appetite    nausea  \\\n",
      "Count           1932      1914       1362             1152      1146   \n",
      "Proportion  0.052718  0.052227   0.037164         0.031434   0.03127   \n",
      "Percentage  5.271775  5.222659   3.716437         3.143418  3.127046   \n",
      "\n",
      "Symptoms    headache abdominal_pain yellowish_skin yellowing_of_eyes  \\\n",
      "Count           1134           1032            912               816   \n",
      "Proportion  0.030943        0.02816       0.024885          0.022266   \n",
      "Percentage  3.094303       2.815979        2.48854          2.226588   \n",
      "\n",
      "Symptoms      chills  ... swollen_blood_vessels spinning_movements  \\\n",
      "Count            798  ...                   108                108   \n",
      "Proportion  0.021775  ...              0.002947           0.002947   \n",
      "Percentage  2.177472  ...              0.294695           0.294695   \n",
      "\n",
      "Symptoms   spotting_urination sunken_eyes blackheads weakness_in_limbs  \\\n",
      "Count                     108         108        108               108   \n",
      "Proportion           0.002947    0.002947   0.002947          0.002947   \n",
      "Percentage           0.294695    0.294695   0.294695          0.294695   \n",
      "\n",
      "Symptoms   watering_from_eyes ulcers_on_tongue weakness_of_one_body_side  \\\n",
      "Count                     108              108                       108   \n",
      "Proportion           0.002947         0.002947                  0.002947   \n",
      "Percentage           0.294695         0.294695                  0.294695   \n",
      "\n",
      "Symptoms   foul_smell_of urine  \n",
      "Count                      102  \n",
      "Proportion            0.002783  \n",
      "Percentage            0.278324  \n",
      "\n",
      "[3 rows x 131 columns]\n",
      "total: 36648  total proportion: 0.9999999999999999 total percentage: 100.0 \n"
     ]
    }
   ],
   "source": [
    "symptoms = symptom_cols_long\n",
    "symptoms.dropna(inplace=True)\n",
    "\n",
    "symptoms = (symptoms\n",
    "            .value_counts()\n",
    "            .sort_values(ascending=False)\n",
    "            .reset_index()\n",
    ")\n",
    "\n",
    "symptoms.columns = ['Symptoms', 'Count'] # change column names\n",
    "columns = symptoms['Symptoms'] # store columns for future use \n",
    "\n",
    "# calculate  proportions, and percentages and store for later use \n",
    "count,proportion,percentage = 0,0,0\n",
    "\n",
    "symptoms['Proportion'] = symptoms['Count'] / symptoms['Count'].sum() \n",
    "symptoms['Percentage'] = symptoms['Proportion'] * 100 \n",
    "\n",
    "count = symptoms['Count'].sum()\n",
    "proportion , percentage = symptoms['Proportion'].sum(),symptoms['Percentage'].sum()\n",
    "# transpose matrix\n",
    "symptoms = symptoms.T\n",
    "\n",
    "symptoms.drop(index=symptoms.index[:1], inplace=True)\n",
    "symptoms.columns = columns\n",
    "\n",
    "print(symptoms.head(n=5))\n",
    "print(f'total: {count.sum()}  total proportion: {proportion} total percentage: {percentage} ')\n"
   ]
  },
  {
   "cell_type": "markdown",
   "id": "73bcbc3c",
   "metadata": {},
   "source": [
    "create a frequency table for symptoms"
   ]
  }
 ],
 "metadata": {
  "kernelspec": {
   "display_name": "myenv",
   "language": "python",
   "name": "python3"
  },
  "language_info": {
   "codemirror_mode": {
    "name": "ipython",
    "version": 3
   },
   "file_extension": ".py",
   "mimetype": "text/x-python",
   "name": "python",
   "nbconvert_exporter": "python",
   "pygments_lexer": "ipython3",
   "version": "3.11.12"
  }
 },
 "nbformat": 4,
 "nbformat_minor": 5
}
